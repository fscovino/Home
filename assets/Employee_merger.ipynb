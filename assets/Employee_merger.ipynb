{
 "cells": [
  {
   "cell_type": "code",
   "execution_count": null,
   "metadata": {},
   "outputs": [],
   "source": [
    "import pandas as pd\n",
    "from openpyxl import load_workbook\n",
    "\n",
    "def combine_sheets(excel_file, output_file, main_sheet_name=\"sheet1\"):\n",
    "  \"\"\"\n",
    "  This function combines data from multiple sheets in an Excel file,\n",
    "  filling missing values, and creates a new complete CSV file.\n",
    "\n",
    "  Args:\n",
    "      excel_file: Path to the Excel file.\n",
    "      output_file: Path to save the combined and completed CSV file.\n",
    "      main_sheet_name: Name of the sheet considered the main data source (default: \"sheet1\").\n",
    "  \"\"\"\n",
    "  # Load the Excel workbook\n",
    "  workbook = load_workbook(excel_file)\n",
    "\n",
    "  # Collect data from all sheets (excluding main sheet)\n",
    "  all_data = []\n",
    "  for sheet_name in workbook.sheetnames:\n",
    "    if sheet_name != main_sheet_name:\n",
    "      sheet = workbook[sheet_name]\n",
    "      # Convert sheet data to a list of rows\n",
    "      sheet_data = [[cell.value for cell in row] for row in sheet.iter_rows()]\n",
    "      all_data.append(sheet_data)\n",
    "\n",
    "  # Read the main sheet data into a pandas dataframe\n",
    "  main_sheet = workbook[main_sheet_name]\n",
    "  df = pd.DataFrame([row.value for row in main_sheet.iter_rows()][1:])  # Skip header\n",
    "\n",
    "  # Combine dataframes, filling missing values\n",
    "  for sheet_data in all_data:\n",
    "    temp_df = pd.DataFrame(sheet_data[1:])  # Skip header\n",
    "    df.update(temp_df)\n",
    "\n",
    "  # Save the combined and completed dataframe to a new CSV\n",
    "  df.to_csv(output_file, index=False)\n",
    "\n",
    "# Example usage\n",
    "excel_file = \"your_data.xlsx\"\n",
    "output_file = \"combined_complete.csv\"\n",
    "combine_sheets(excel_file, output_file)\n",
    "\n",
    "print(f\"Combined data from sheets and created {output_file}\")\n"
   ]
  }
 ],
 "metadata": {
  "language_info": {
   "name": "python"
  }
 },
 "nbformat": 4,
 "nbformat_minor": 2
}
